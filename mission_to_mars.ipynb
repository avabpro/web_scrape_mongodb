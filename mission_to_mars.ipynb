{
 "cells": [
  {
   "cell_type": "code",
   "execution_count": 1,
   "metadata": {},
   "outputs": [
    {
     "name": "stdout",
     "output_type": "stream",
     "text": [
      "Opportunity Hunkers Down During Dust Storm\n",
      "It's the beginning of the end for the planet-encircling dust storm on Mars. But it could still be weeks, or even months, before skies are clear enough for NASA's Opportunity rover to recharge its batteries and phone home.\n"
     ]
    }
   ],
   "source": [
    "import urllib.request\n",
    "from bs4 import BeautifulSoup \n",
    "import pandas as pd\n",
    "\n",
    "nasa_page = \"https://mars.nasa.gov/news/\"\n",
    "page = urllib.request.urlopen(nasa_page)\n",
    "soup = BeautifulSoup(page, \"html.parser\")\n",
    "# print(soup.prettify())\n",
    "\n",
    "latest_title = soup.find('div', attrs={'class':'content_title'}).text.strip()\n",
    "print(latest_title)\n",
    "\n",
    "latest_paragraph = soup.find('div', attrs={'class':'rollover_description_inner'}).text.strip()\n",
    "print(latest_paragraph)"
   ]
  },
  {
   "cell_type": "code",
   "execution_count": 2,
   "metadata": {},
   "outputs": [
    {
     "name": "stdout",
     "output_type": "stream",
     "text": [
      "https://www.jpl.nasa.gov/spaceimages/images/wallpaper/PIA19092-1920x1200.jpg\n"
     ]
    }
   ],
   "source": [
    "jpl_page = \"https://www.jpl.nasa.gov/spaceimages/?search=&category=Mars\"\n",
    "page = urllib.request.urlopen(jpl_page)\n",
    "soup = BeautifulSoup(page, \"html.parser\")\n",
    "#print(soup.prettify())\n",
    "\n",
    "soup_url = soup.find('article', attrs={'class':'carousel_item'})\n",
    "\n",
    "isurl = False\n",
    "\n",
    "\n",
    "featured_url = str(soup_url)\n",
    "featured_image_url = \"https://www.jpl.nasa.gov\"\n",
    "i = 0\n",
    "\n",
    "while i < len(featured_url):\n",
    "    if isurl == True:\n",
    "        if featured_url [i] == \"'\":\n",
    "            break\n",
    "        else:\n",
    "            featured_image_url += featured_url [i]\n",
    "    if featured_url [i] == \"u\" and featured_url [i + 1] == \"r\" and featured_url [i + 2] == \"l\" and featured_url [i + 3] == \"(\" and featured_url [i + 4] == \"'\":\n",
    "        isurl = True \n",
    "        i += 4\n",
    "    i += 1\n",
    "\n",
    "print(featured_image_url)\n",
    "\n"
   ]
  },
  {
   "cell_type": "code",
   "execution_count": 3,
   "metadata": {},
   "outputs": [
    {
     "name": "stdout",
     "output_type": "stream",
     "text": [
      "Sol 2171 (2018-09-14), high -12C/10F, low -65C/-84F, pressure at 8.79 hPa, daylight 05:43-17:59\n"
     ]
    }
   ],
   "source": [
    "twitter_weather_page = \"https://twitter.com/marswxreport?lang=en\"\n",
    "page = urllib.request.urlopen(twitter_weather_page)\n",
    "soup = BeautifulSoup(page, \"html.parser\")\n",
    "# print(soup.prettify())\n",
    "\n",
    "isreport = False\n",
    "\n",
    "\n",
    "featured_url = str(soup)\n",
    "mars_weather = \"\"\n",
    "i = 0\n",
    "\n",
    "while i < len(featured_url):\n",
    "    if isreport == True:\n",
    "        if featured_url [i] == \"<\":\n",
    "            break\n",
    "        else:\n",
    "            mars_weather += featured_url [i]\n",
    "    if featured_url [i] == \"S\" and featured_url [i + 1] == \"o\" and featured_url [i + 2] == \"l\" and featured_url [i + 3] == \" \" and featured_url [i - 1] == \">\":\n",
    "        isreport = True \n",
    "        mars_weather += featured_url [i] \n",
    "    i += 1\n",
    "\n",
    "print(mars_weather)\n",
    "\n"
   ]
  },
  {
   "cell_type": "code",
   "execution_count": 6,
   "metadata": {},
   "outputs": [
    {
     "name": "stdout",
     "output_type": "stream",
     "text": [
      "[                      0                              1\n",
      "0  Equatorial Diameter:                       6,792 km\n",
      "1       Polar Diameter:                       6,752 km\n",
      "2                 Mass:  6.42 x 10^23 kg (10.7% Earth)\n",
      "3                Moons:            2 (Phobos & Deimos)\n",
      "4       Orbit Distance:       227,943,824 km (1.52 AU)\n",
      "5         Orbit Period:           687 days (1.9 years)\n",
      "6  Surface Temperature:                  -153 to 20 °C\n",
      "7         First Record:              2nd millennium BC\n",
      "8          Recorded By:           Egyptian astronomers]\n"
     ]
    }
   ],
   "source": [
    "facts_page = (\"https://space-facts.com/mars/\")\n",
    "page = urllib.request.urlopen(facts_page)\n",
    "soup = BeautifulSoup(page,'lxml')\n",
    "table = soup.find_all('table')[0] \n",
    "df = pd.read_html(str(table))\n",
    "print(df)"
   ]
  },
  {
   "cell_type": "code",
   "execution_count": null,
   "metadata": {},
   "outputs": [],
   "source": [
    "hemisphere_image_urls = [\n",
    "    {\"title\": \"Valles Marineris Hemisphere\", \"img_url\": \"http://astropedia.astrogeology.usgs.gov/download/Mars/Viking/valles_marineris_enhanced.tif\"},\n",
    "    {\"title\": \"Cerberus Hemisphere\", \"img_url\": \"http://astropedia.astrogeology.usgs.gov/download/Mars/Viking/cerberus_enhanced.tif\"},\n",
    "    {\"title\": \"Schiaparelli Hemisphere\", \"img_url\": \"http://astropedia.astrogeology.usgs.gov/download/Mars/Viking/schiaparelli_enhanced.tif\"},\n",
    "    {\"title\": \"Syrtis Major Hemisphere\", \"img_url\": \"http://astropedia.astrogeology.usgs.gov/download/Mars/Viking/syrtis_major_enhanced.tif\"},\n",
    "]"
   ]
  },
  {
   "cell_type": "code",
   "execution_count": null,
   "metadata": {},
   "outputs": [],
   "source": []
  }
 ],
 "metadata": {
  "kernelspec": {
   "display_name": "Python 3",
   "language": "python",
   "name": "python3"
  },
  "language_info": {
   "codemirror_mode": {
    "name": "ipython",
    "version": 3
   },
   "file_extension": ".py",
   "mimetype": "text/x-python",
   "name": "python",
   "nbconvert_exporter": "python",
   "pygments_lexer": "ipython3",
   "version": "3.6.5"
  }
 },
 "nbformat": 4,
 "nbformat_minor": 2
}
